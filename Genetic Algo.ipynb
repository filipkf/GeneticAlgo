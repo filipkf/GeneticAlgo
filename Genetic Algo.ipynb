{
 "cells": [
  {
   "cell_type": "code",
   "execution_count": 1,
   "metadata": {},
   "outputs": [],
   "source": [
    "#Test\n",
    "import sys\n",
    "#!conda install --yes --prefix {sys.prefix} json\n",
    "import requests\n",
    "import json\n",
    "import csv\n",
    "import os"
   ]
  },
  {
   "cell_type": "code",
   "execution_count": 2,
   "metadata": {},
   "outputs": [],
   "source": [
    "# Load all stock-names into list\n",
    "def LoadStockNames():    \n",
    "    stock_names = []\n",
    "    with open('stock_names.csv', newline='') as csvfile:\n",
    "        file = csv.reader(csvfile, delimiter=',', quotechar='|')\n",
    "        for row in file:\n",
    "            stock_names.append(row[-1])\n",
    "    return stock_names\n"
   ]
  },
  {
   "cell_type": "code",
   "execution_count": 3,
   "metadata": {},
   "outputs": [],
   "source": [
    "# Get history data via yahoo finance API\n",
    "def GetStockHistoryFromYahoo(stocks):\n",
    "    url = \"https://apidojo-yahoo-finance-v1.p.rapidapi.com/stock/v3/get-historical-data\"\n",
    "    headers = {\n",
    "        'x-rapidapi-key': \"e0e87ca3a8msh49c89097b5eb016p1cebfdjsnbad457be561e\",\n",
    "        'x-rapidapi-host': \"apidojo-yahoo-finance-v1.p.rapidapi.com\"\n",
    "        }\n",
    "\n",
    "    for stock in stocks:\n",
    "        querystring = {\"symbol\":stock,\"region\":\"US\"}\n",
    "        response = requests.request(\"GET\", url, headers=headers, params=querystring)\n",
    "        print(f'Stock: {stock}, response: {response.status_code}')\n",
    "        if(response.status_code == 200):\n",
    "            with open(f'stocks/{stock}.json', 'w') as json_file:\n",
    "                json.dump(response.text, json_file)\n",
    "    \n",
    "\n",
    "\n"
   ]
  },
  {
   "cell_type": "code",
   "execution_count": 23,
   "metadata": {},
   "outputs": [],
   "source": [
    "def LoadStockHistoryFromJson():\n",
    "    directory = 'stocks'\n",
    "    stock_history = {}\n",
    "    stock_names = []\n",
    "    for filename in os.listdir(directory):\n",
    "        with open(f'{directory}/{filename}', 'r') as json_file:\n",
    "            contents = json.load(json_file)\n",
    "            stock = filename.split(\".\")[0]\n",
    "            stock_history[stock] = json.loads(contents)\n",
    "            stock_names.append(stock)\n",
    "    return stock_names, stock_history"
   ]
  },
  {
   "cell_type": "code",
   "execution_count": null,
   "metadata": {},
   "outputs": [],
   "source": []
  },
  {
   "cell_type": "code",
   "execution_count": 24,
   "metadata": {},
   "outputs": [
    {
     "name": "stdout",
     "output_type": "stream",
     "text": [
      "{'date': 1620912600, 'open': 20.8799991607666, 'high': 21.420000076293945, 'low': 20.6200008392334, 'close': 21.209999084472656, 'volume': 35139800, 'adjclose': 21.209999084472656}\n"
     ]
    }
   ],
   "source": [
    "stock_names, data = LoadStockHistoryFromJson()\n",
    "\n",
    "\n",
    "\n",
    "print(data[stock_names[1]][\"prices\"][0])"
   ]
  },
  {
   "cell_type": "code",
   "execution_count": null,
   "metadata": {},
   "outputs": [],
   "source": []
  }
 ],
 "metadata": {
  "kernelspec": {
   "display_name": "Python 3",
   "language": "python",
   "name": "python3"
  },
  "language_info": {
   "codemirror_mode": {
    "name": "ipython",
    "version": 3
   },
   "file_extension": ".py",
   "mimetype": "text/x-python",
   "name": "python",
   "nbconvert_exporter": "python",
   "pygments_lexer": "ipython3",
   "version": "3.7.4"
  }
 },
 "nbformat": 4,
 "nbformat_minor": 2
}
